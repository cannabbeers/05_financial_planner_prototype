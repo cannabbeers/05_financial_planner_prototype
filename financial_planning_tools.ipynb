{
 "cells": [
  {
   "cell_type": "markdown",
   "metadata": {},
   "source": [
    "# Financial Planning with APIs and Simulations\n",
    "\n",
    "In this Challenge, you’ll create two financial analysis tools by using a single Jupyter notebook:\n",
    "\n",
    "Part 1: A financial planner for emergencies. The members will be able to use this tool to visualize their current savings. The members can then determine if they have enough reserves for an emergency fund.\n",
    "\n",
    "Part 2: A financial planner for retirement. This tool will forecast the performance of their retirement portfolio in 30 years. To do this, the tool will make an Alpaca API call via the Alpaca SDK to get historical price data for use in Monte Carlo simulations.\n",
    "\n",
    "You’ll use the information from the Monte Carlo simulation to answer questions about the portfolio in your Jupyter notebook.\n",
    "\n"
   ]
  },
  {
   "cell_type": "markdown",
   "metadata": {},
   "source": [
    "# <p style=\"text-align:center\">Welcome to **<font face=\"Georgia\">UCB Fintech Advisors, NPO</font>**</p>\n",
    "## <p style=\"text-align:center\"><font color=\"green\">*<ins><font face=\"Georgia\">The Best No Cost Local Community Financial Advisors Money Cannot Buy</font>*</ins></font></p>\n",
    "#### <p style=\"text-align:center\">WARNING !! Before proceeding, read our <font color=\"red\"><ins>*[LEGAL DISCLAIMER](Images/legal_disclaimer.png)* </ins><--- CLICK HERE NOW !! WARNING \n",
    "                                                                                                                                   \n",
    "# <p style=\"text-align:center\">*<font face=\"Georgia\">Prototype application - FinTech Financial Planner</font>*</p>                                                                                                                                  "
   ]
  },
  {
   "cell_type": "markdown",
   "metadata": {},
   "source": [
    "<i class=\"fa-sharp fa-regular fa-building-columns\"></i>"
   ]
  },
  {
   "cell_type": "code",
   "execution_count": 1,
   "metadata": {},
   "outputs": [],
   "source": [
    "# Import the required libraries and dependencies\n",
    "\n",
    "import os\n",
    "import requests\n",
    "import json\n",
    "import pandas as pd\n",
    "import alpaca_trade_api as tradeapi\n",
    "import warnings # built-in Python module we use to call the `.filterwarnings` function to action\n",
    "\n",
    "from dotenv import load_dotenv\n",
    "from MCForecastTools import MCSimulation\n",
    "from watermark import watermark # watermark module useful for documentation purposes and when sharing code\n",
    "\n",
    "%matplotlib inline"
   ]
  },
  {
   "cell_type": "code",
   "execution_count": 2,
   "metadata": {},
   "outputs": [
    {
     "name": "stdout",
     "output_type": "stream",
     "text": [
      "Last updated: 2023-07-06T19:32:19.860833-07:00\n",
      "\n",
      "Python implementation: CPython\n",
      "Python version       : 3.7.13\n",
      "IPython version      : 7.31.1\n",
      "\n",
      "Compiler    : MSC v.1916 64 bit (AMD64)\n",
      "OS          : Windows\n",
      "Release     : 10\n",
      "Machine     : AMD64\n",
      "Processor   : Intel64 Family 6 Model 154 Stepping 4, GenuineIntel\n",
      "CPU cores   : 12\n",
      "Architecture: 64bit\n",
      "\n",
      "alpaca_trade_api: 3.0.0\n",
      "json            : 2.0.9\n",
      "pandas          : 1.3.5\n",
      "requests        : 2.28.1\n",
      "\n"
     ]
    }
   ],
   "source": [
    "# Python function \".filter warnings\" sets the 'action' parameter to ignore all warning messages when running code\n",
    "\n",
    "warnings.filterwarnings('ignore')\n",
    "\n",
    "print(watermark())\n",
    "print(watermark(iversions=True, globals_=globals(), packages=\"\"))"
   ]
  },
  {
   "cell_type": "code",
   "execution_count": 3,
   "metadata": {},
   "outputs": [
    {
     "data": {
      "text/plain": [
       "True"
      ]
     },
     "execution_count": 3,
     "metadata": {},
     "output_type": "execute_result"
    }
   ],
   "source": [
    "# Load the environment variables from the .env file\n",
    "# by calling the load_dotenv function\n",
    "\n",
    "load_dotenv()"
   ]
  },
  {
   "cell_type": "markdown",
   "metadata": {},
   "source": [
    "## Part 1: Create a Financial Planner for Emergencies"
   ]
  },
  {
   "cell_type": "markdown",
   "metadata": {},
   "source": [
    "### Evaluate the Cryptocurrency Wallet by Using the Requests Library\n",
    "\n",
    "In this section, you’ll determine the current value of a member’s cryptocurrency wallet. You’ll collect the current prices for the Bitcoin and Ethereum cryptocurrencies by using the Python Requests library. For the prototype, you’ll assume that the member holds the 1.2 Bitcoins (BTC) and 5.3 Ethereum coins (ETH). To do all this, complete the following steps:\n",
    "\n",
    "1. Create a variable named `monthly_income`, and set its value to `12000`.\n",
    "\n",
    "2. Use the Requests library to get the current price (in US dollars) of Bitcoin (BTC) and Ethereum (ETH) by using the API endpoints that the starter code supplies.\n",
    "\n",
    "3. Navigate the JSON response object to access the current price of each coin, and store each in a variable.\n",
    "\n",
    "    > **Hint** Note the specific identifier for each cryptocurrency in the API JSON response. The Bitcoin identifier is `1`, and the Ethereum identifier is `1027`.\n",
    "\n",
    "4. Calculate the value, in US dollars, of the current amount of each cryptocurrency and of the entire cryptocurrency wallet.\n",
    "\n"
   ]
  },
  {
   "cell_type": "code",
   "execution_count": 4,
   "metadata": {},
   "outputs": [],
   "source": [
    "# The current number of coins for each cryptocurrency asset held in the portfolio.\n",
    "\n",
    "btc_coins = 1.2\n",
    "eth_coins = 5.3"
   ]
  },
  {
   "cell_type": "markdown",
   "metadata": {},
   "source": [
    "#### Step 1: Create a variable named `monthly_income`, and set its value to `12000`."
   ]
  },
  {
   "cell_type": "markdown",
   "metadata": {},
   "source": [
    "### <font color=\"green\"><ins><font face=\"Helvetica\">From Challenge # 5 Instructions, we are given:</font></ins>\n",
    "    \n",
    "1) The average monthly household income for each credit union member is $12,000.\n",
    "\n",
    "2) Each credit union member has a savings portfolio that consists of a cryptocurrency wallet, stocks, and bonds\n",
    "\n",
    "### <font color=\"green\">average monthly household income for each credit union member is $12,000"
   ]
  },
  {
   "cell_type": "code",
   "execution_count": 5,
   "metadata": {},
   "outputs": [],
   "source": [
    "# amended starter code variable 'monthly_income' to shortened alias for \"Average Monthly Salary\" as AMS\n",
    "\n",
    "# The monthly amount for the member's household income\n",
    "\n",
    "AMS = monthly_income = 12000"
   ]
  },
  {
   "cell_type": "markdown",
   "metadata": {},
   "source": [
    "#### Review the endpoint URLs for the API calls to Free Crypto API in order to get the current pricing information for both BTC and ETH."
   ]
  },
  {
   "cell_type": "code",
   "execution_count": 6,
   "metadata": {},
   "outputs": [],
   "source": [
    "# The Free Crypto API Call endpoint URLs for the held cryptocurrency assets\n",
    "\n",
    "btc_url = \"https://api.alternative.me/v2/ticker/Bitcoin/?convert=USD\"\n",
    "eth_url = \"https://api.alternative.me/v2/ticker/Ethereum/?convert=USD\""
   ]
  },
  {
   "cell_type": "markdown",
   "metadata": {},
   "source": [
    "#### <font color=\"green\"><ins><font face=\"Georgia\">This 'Prototype' Financial Planner by *UCB Fintech Consulting, NPO* uses an API by **\"Free Crypto API\"**</font></ins> for Crypto Quotes\n",
    "To view the endpoint URLs for the API calls current and/or updating, try clicking below: \n",
    "\n",
    "+ [BITCOIN (BTC)](https://api.alternative.me/v2/ticker/Bitcoin/?convert=USD)\n",
    "+ [ETHEREUM (ETH)](https://api.alternative.me/v2/ticker/Ethereum/?convert=USD)\n",
    "\n",
    "To confirm the data is current:\n",
    "\n",
    "review the code and find following 2 lines in code from each of the above API links for BTC and ETH and confirm the '10-digit' codes are identical:\n",
    "\n",
    "**`\"last_updated\": <## 10-digit code ###>`** \n",
    "\n",
    "**`\"timestamp\": <## 10-digit code ###>`**\n",
    "\n",
    "Copy the '10-digit code' and check it with **[EpochConvertor](https://www.epochconverter.com/)** to 'Convert epoch to human-readable date and vice versa'"
   ]
  },
  {
   "cell_type": "markdown",
   "metadata": {},
   "source": [
    "#### Step 2. Use the Requests library to get the current price (in US dollars) of Bitcoin (BTC) and Ethereum (ETH) by using the API endpoints that the starter code supplied."
   ]
  },
  {
   "cell_type": "code",
   "execution_count": 7,
   "metadata": {},
   "outputs": [
    {
     "name": "stdout",
     "output_type": "stream",
     "text": [
      "{\n",
      "    \"data\": {\n",
      "        \"1\": {\n",
      "            \"circulating_supply\": 19422018,\n",
      "            \"id\": 1,\n",
      "            \"last_updated\": 1688696989,\n",
      "            \"max_supply\": 21000000,\n",
      "            \"name\": \"Bitcoin\",\n",
      "            \"quotes\": {\n",
      "                \"USD\": {\n",
      "                    \"market_cap\": 584204310906,\n",
      "                    \"percent_change_1h\": 0.274898742895258,\n",
      "                    \"percent_change_24h\": -1.26633637077555,\n",
      "                    \"percent_change_7d\": -1.00204941459112,\n",
      "                    \"percentage_change_1h\": 0.274898742895258,\n",
      "                    \"percentage_change_24h\": -1.26633637077555,\n",
      "                    \"percentage_change_7d\": -1.00204941459112,\n",
      "                    \"price\": 30091.0,\n",
      "                    \"volume_24h\": 22632215885\n",
      "                }\n",
      "            },\n",
      "            \"rank\": 1,\n",
      "            \"symbol\": \"BTC\",\n",
      "            \"total_supply\": 19422018,\n",
      "            \"website_slug\": \"bitcoin\"\n",
      "        }\n",
      "    },\n",
      "    \"metadata\": {\n",
      "        \"error\": null,\n",
      "        \"num_cryptocurrencies\": 3119,\n",
      "        \"timestamp\": 1688696989\n",
      "    }\n",
      "}\n"
     ]
    }
   ],
   "source": [
    "# Using the Python requests library, make an API call to access the current price of BTC\n",
    "btc_response = requests.get(btc_url).json()\n",
    "\n",
    "# Use the json.dumps function to review the response data from the API call\n",
    "# Use the indent and sort_keys parameters to make the response object readable\n",
    "print(\n",
    "    json.dumps(\n",
    "        btc_response,\n",
    "        indent=4, \n",
    "        sort_keys=True)\n",
    ")\n"
   ]
  },
  {
   "cell_type": "code",
   "execution_count": 8,
   "metadata": {},
   "outputs": [
    {
     "name": "stdout",
     "output_type": "stream",
     "text": [
      "{\n",
      "    \"data\": {\n",
      "        \"1027\": {\n",
      "            \"circulating_supply\": 120209913,\n",
      "            \"id\": 1027,\n",
      "            \"last_updated\": 1688696986,\n",
      "            \"max_supply\": 120214105,\n",
      "            \"name\": \"Ethereum\",\n",
      "            \"quotes\": {\n",
      "                \"USD\": {\n",
      "                    \"market_cap\": 222424905155,\n",
      "                    \"percent_change_1h\": 0.350544134486676,\n",
      "                    \"percent_change_24h\": -3.11083653673677,\n",
      "                    \"percent_change_7d\": 0.32268242192821,\n",
      "                    \"percentage_change_1h\": 0.350544134486676,\n",
      "                    \"percentage_change_24h\": -3.11083653673677,\n",
      "                    \"percentage_change_7d\": 0.32268242192821,\n",
      "                    \"price\": 1851.49,\n",
      "                    \"volume_24h\": 14606195999\n",
      "                }\n",
      "            },\n",
      "            \"rank\": 2,\n",
      "            \"symbol\": \"ETH\",\n",
      "            \"total_supply\": 120209913,\n",
      "            \"website_slug\": \"ethereum\"\n",
      "        }\n",
      "    },\n",
      "    \"metadata\": {\n",
      "        \"error\": null,\n",
      "        \"num_cryptocurrencies\": 3119,\n",
      "        \"timestamp\": 1688696986\n",
      "    }\n",
      "}\n"
     ]
    }
   ],
   "source": [
    "# Using the Python requests library, make an API call to access the current price ETH\n",
    "eth_response = requests.get(\n",
    "    eth_url).json()\n",
    "\n",
    "# Use the json.dumps function to review the response data from the API call\n",
    "# Use the indent and sort_keys parameters to make the response object readable\n",
    "print(\n",
    "    json.dumps(\n",
    "        eth_response,\n",
    "        indent=4, \n",
    "        sort_keys=True)\n",
    ")\n"
   ]
  },
  {
   "cell_type": "markdown",
   "metadata": {},
   "source": [
    "#### Step 3: Navigate the JSON response object to access the current price of each coin, and store each in a variable."
   ]
  },
  {
   "cell_type": "code",
   "execution_count": 9,
   "metadata": {},
   "outputs": [
    {
     "name": "stdout",
     "output_type": "stream",
     "text": [
      "Current price of BTC: $30,091.00\n"
     ]
    }
   ],
   "source": [
    "# Navigate the BTC response object to access the current price of BTC\n",
    "\n",
    "btc_price = btc_response['data']['1']['quotes']['USD']['price']\n",
    "\n",
    "# Print the current price of BTC\n",
    "\n",
    "print(f'Current price of BTC: ${btc_price:,.2f}')\n"
   ]
  },
  {
   "cell_type": "markdown",
   "metadata": {},
   "source": [
    "# <font color=\"green\"><font face=\"Georgia\">UCB Fintech Advisors, NPO</font>\n",
    "### <font face=\"Georgia\">Check out some other sources below: </font>\n",
    "\n",
    "[Coinbase](https://www.coinbase.com/explore)\n",
    "\n",
    "[Prices](https://prices.org/)\n",
    "\n",
    "[Yahoo Finance](https://finance.yahoo.com/crypto/?guccounter=1&guce_referrer=aHR0cHM6Ly9kdWNrZHVja2dvLmNvbS8&guce_referrer_sig=AQAAAF1T2UVt4iTdGp_FHuOE2IwhZOwLEo7XTFFgWfSPcS1LRh_qF8iw8EcAEVjeDLFQ581W8_Pxt2O-LfpRjCU_Xhjd6cgFTirJIUImmMnQsFTeizfLQZzZrPbQk1GpnPHoZmNmyHXJgM9uiEg6KIj-Fkx_8S0-P7FKQgH1Ot1XzMvk)"
   ]
  },
  {
   "cell_type": "code",
   "execution_count": 10,
   "metadata": {},
   "outputs": [
    {
     "name": "stdout",
     "output_type": "stream",
     "text": [
      "Current price of ETH: $1,851.49\n"
     ]
    }
   ],
   "source": [
    "# Navigate the BTC response object to access the current price of ETH\n",
    "eth_price = eth_response['data']['1027']['quotes']['USD']['price']\n",
    "\n",
    "# Print the current price of ETH\n",
    "\n",
    "print(f'Current price of ETH: ${eth_price:,.2f}')\n"
   ]
  },
  {
   "cell_type": "markdown",
   "metadata": {},
   "source": [
    "### Step 4: Calculate the value, in US dollars, of the current amount of each cryptocurrency and of the entire cryptocurrency wallet."
   ]
  },
  {
   "cell_type": "code",
   "execution_count": 11,
   "metadata": {},
   "outputs": [
    {
     "name": "stdout",
     "output_type": "stream",
     "text": [
      "The current value of your holding in BTC: $36,109.20\n"
     ]
    }
   ],
   "source": [
    "# Compute the current value of the BTC holding \n",
    "\n",
    "btc_value = btc_coins * btc_price\n",
    "\n",
    "# Print current value of your holding in BTC\n",
    "\n",
    "print(f'The current value of your holding in BTC: ${btc_value:,.2f}')\n"
   ]
  },
  {
   "cell_type": "code",
   "execution_count": 12,
   "metadata": {},
   "outputs": [
    {
     "name": "stdout",
     "output_type": "stream",
     "text": [
      "The current value of your holding in ETH: $9,812.90\n"
     ]
    }
   ],
   "source": [
    "# Compute the current value of the ETH holding \n",
    "\n",
    "eth_value = eth_coins * eth_price\n",
    "\n",
    "# Print current value of your holding in ETH\n",
    "print(f'The current value of your holding in ETH: ${eth_value:,.2f}')\n"
   ]
  },
  {
   "cell_type": "code",
   "execution_count": 13,
   "metadata": {},
   "outputs": [
    {
     "name": "stdout",
     "output_type": "stream",
     "text": [
      "Your current cryptocurrency wallet balance: $45,922.10\n"
     ]
    }
   ],
   "source": [
    "# Compute the total value of the cryptocurrency wallet\n",
    "# Add the value of the BTC holding to the value of the ETH holding\n",
    "\n",
    "total_crypto_wallet = btc_value + eth_value\n",
    "\n",
    "# Print current cryptocurrency wallet balance\n",
    "print(f'Your current cryptocurrency wallet balance: ${total_crypto_wallet:,.2f}')"
   ]
  },
  {
   "cell_type": "markdown",
   "metadata": {},
   "source": [
    "### Evaluate the Stock and Bond Holdings by Using the Alpaca SDK\n",
    "\n",
    "In this section, you’ll determine the current value of a member’s stock and bond holdings. You’ll make an API call to Alpaca via the Alpaca SDK to get the current closing prices of the SPDR S&P 500 ETF Trust (ticker: SPY) and of the iShares Core US Aggregate Bond ETF (ticker: AGG). For the prototype, assume that the member holds 110 shares of SPY, which represents the stock portion of their portfolio, and 200 shares of AGG, which represents the bond portion. To do all this, complete the following steps:\n",
    "\n",
    "1. In the `Starter_Code` folder, create an environment file (`.env`) to store the values of your Alpaca API key and Alpaca secret key.\n",
    "\n",
    "2. Set the variables for the Alpaca API and secret keys. Using the Alpaca SDK, create the Alpaca `tradeapi.REST` object. In this object, include the parameters for the Alpaca API key, the secret key, and the version number.\n",
    "\n",
    "3. Set the following parameters for the Alpaca API call:\n",
    "\n",
    "    - `tickers`: Use the tickers for the member’s stock and bond holdings.\n",
    "\n",
    "    - `timeframe`: Use a time frame of one day.\n",
    "\n",
    "    - `start_date` and `end_date`: Use the same date for these parameters, and format them with the date of the previous weekday (or `2020-08-07`). This is because you want the one closing price for the most-recent trading day.\n",
    "\n",
    "4. Get the current closing prices for `SPY` and `AGG` by using the Alpaca `get_bars` function. Format the response as a Pandas DataFrame by including the `df` property at the end of the `get_bars` function.\n",
    "\n",
    "5. Navigating the Alpaca response DataFrame, select the `SPY` and `AGG` closing prices, and store them as variables.\n",
    "\n",
    "6. Calculate the value, in US dollars, of the current amount of shares in each of the stock and bond portions of the portfolio, and print the results.\n"
   ]
  },
  {
   "cell_type": "markdown",
   "metadata": {},
   "source": [
    "#### Review the total number of shares held in both (SPY) and (AGG)."
   ]
  },
  {
   "cell_type": "code",
   "execution_count": 14,
   "metadata": {},
   "outputs": [],
   "source": [
    "# Current amount of shares held in both the stock (SPY) and bond (AGG) portion of the portfolio.\n",
    "spy_shares = 110\n",
    "agg_shares = 200\n"
   ]
  },
  {
   "cell_type": "markdown",
   "metadata": {},
   "source": [
    "#### Step 1: In the `Starter_Code` folder, create an environment file (`.env`) to store the values of your Alpaca API key and Alpaca secret key."
   ]
  },
  {
   "cell_type": "markdown",
   "metadata": {},
   "source": [
    "#### Step 2: Set the variables for the Alpaca API and secret keys. Using the Alpaca SDK, create the Alpaca `tradeapi.REST` object. In this object, include the parameters for the Alpaca API key, the secret key, and the version number."
   ]
  },
  {
   "cell_type": "code",
   "execution_count": 15,
   "metadata": {},
   "outputs": [
    {
     "name": "stdout",
     "output_type": "stream",
     "text": [
      "<class 'str'>\n",
      "<class 'str'>\n"
     ]
    }
   ],
   "source": [
    "# Set the variables for the Alpaca API and secret keys\n",
    "\n",
    "alpaca_api_key = os.getenv(\"ALPACA_API_KEY\")\n",
    "alpaca_secret_key = os.getenv(\"ALPACA_SECRET_KEY\")\n",
    "\n",
    "# Check the values were imported correctly by evaluating the type of each\n",
    "\n",
    "print(type(alpaca_api_key))\n",
    "print(type(alpaca_secret_key))\n",
    "\n",
    "# Create the Alpaca tradeapi.REST object\n",
    "alpaca = tradeapi.REST(alpaca_api_key, alpaca_secret_key, api_version=\"v3\")\n"
   ]
  },
  {
   "cell_type": "code",
   "execution_count": 16,
   "metadata": {},
   "outputs": [
    {
     "data": {
      "text/plain": [
       "str"
      ]
     },
     "metadata": {},
     "output_type": "display_data"
    },
    {
     "data": {
      "text/plain": [
       "str"
      ]
     },
     "metadata": {},
     "output_type": "display_data"
    }
   ],
   "source": [
    "# confirm tradeapi.REST object was created\n",
    "\n",
    "display(type(alpaca_api_key))\n",
    "display(type(alpaca_secret_key))"
   ]
  },
  {
   "cell_type": "markdown",
   "metadata": {},
   "source": [
    "#### Step 3: Set the following parameters for the Alpaca API call:\n",
    "\n",
    "- `tickers`: Use the tickers for the member’s stock and bond holdings.\n",
    "\n",
    "- `timeframe`: Use a time frame of one day.\n",
    "\n",
    "- `start_date` and `end_date`: Use the same date for these parameters, and format them with the date of the previous weekday (or `2020-08-07`). This is because you want the one closing price for the most-recent trading day.\n"
   ]
  },
  {
   "cell_type": "code",
   "execution_count": 17,
   "metadata": {},
   "outputs": [],
   "source": [
    "# Set the tickers for both the bond and stock portion of the portfolio\n",
    "tickers = ['SPY', 'AGG']\n",
    "\n",
    "# Set timeframe to 1Day\n",
    "timeframe = '1D'\n",
    "\n",
    "# Format current date as ISO format\n",
    "# Set both the start and end date at the date of your prior weekday \n",
    "# This will give you the closing price of the previous trading day\n",
    "# Alternatively you can use a start and end date of 2020-08-07\n",
    "\n",
    "# used alternative date suggestion: start/end on 2020-08-07\n",
    "\n",
    "start_day = pd.Timestamp('2020-08-07', tz='America/New_York').isoformat()\n",
    "end_day = pd.Timestamp('2020-08-07', tz='America/New_York').isoformat()\n"
   ]
  },
  {
   "cell_type": "markdown",
   "metadata": {},
   "source": [
    "#### Step 4: Get the current closing prices for `SPY` and `AGG` by using the Alpaca `get_bars` function. Format the response as a Pandas DataFrame by including the `df` property at the end of the `get_bars` function."
   ]
  },
  {
   "cell_type": "code",
   "execution_count": 18,
   "metadata": {},
   "outputs": [
    {
     "name": "stdout",
     "output_type": "stream",
     "text": [
      "                              SPY                                   \\\n",
      "                             open    high    low   close    volume   \n",
      "timestamp                                                            \n",
      "2020-08-07 04:00:00+00:00  333.28  334.88  332.3  334.57  57282821   \n",
      "\n",
      "                                                      AGG                   \\\n",
      "                          trade_count        vwap    open    high      low   \n",
      "timestamp                                                                    \n",
      "2020-08-07 04:00:00+00:00      350100  333.800372  119.66  119.73  119.395   \n",
      "\n",
      "                                                                    \n",
      "                            close   volume trade_count        vwap  \n",
      "timestamp                                                           \n",
      "2020-08-07 04:00:00+00:00  119.43  5559066       15246  119.475306  \n"
     ]
    }
   ],
   "source": [
    "# Use the Alpaca get_bars function to get current closing prices the portfolio\n",
    "# Be sure to set the `df` property after the function to format the response object as a DataFrame\n",
    "\n",
    "holdings_df = alpaca.get_bars(tickers, timeframe, start = start_day, end = end_day).df\n",
    "\n",
    "# Reorganize the DataFrame\n",
    "# Separate ticker data\n",
    "SPY = holdings_df[holdings_df['symbol'] == 'SPY'].drop('symbol', axis=1)\n",
    "AGG = holdings_df[holdings_df['symbol'] == 'AGG'].drop('symbol', axis=1)\n",
    "\n",
    "# Concatenate the ticker DataFrames\n",
    "\n",
    "holdings_df = pd.concat([SPY, AGG], axis=1, keys=[\"SPY\", \"AGG\"])\n",
    "\n",
    "# Review the first 5 rows of the Alpaca DataFrame\n",
    "print(holdings_df.head())"
   ]
  },
  {
   "cell_type": "markdown",
   "metadata": {},
   "source": [
    "#### Step 5: Navigating the Alpaca response DataFrame, select the `SPY` and `AGG` closing prices, and store them as variables."
   ]
  },
  {
   "cell_type": "code",
   "execution_count": 19,
   "metadata": {},
   "outputs": [
    {
     "name": "stdout",
     "output_type": "stream",
     "text": [
      "AGG closed at $119.43\n"
     ]
    }
   ],
   "source": [
    "# Access the closing price for AGG from the Alpaca DataFrame\n",
    "# Converting the value to a floating point number\n",
    "\n",
    "agg_close_price = float(holdings_df['AGG']['close'])\n",
    "\n",
    "# Print the AGG closing price\n",
    "print(f'AGG closed at ${agg_close_price:,.2f}')\n"
   ]
  },
  {
   "cell_type": "code",
   "execution_count": 20,
   "metadata": {},
   "outputs": [
    {
     "name": "stdout",
     "output_type": "stream",
     "text": [
      "SPY closed at $334.57\n"
     ]
    }
   ],
   "source": [
    "# Access the closing price for SPY from the Alpaca DataFrame\n",
    "# Converting the value to a floating point number\n",
    "\n",
    "spy_close_price = float(holdings_df['SPY']['close'])\n",
    "\n",
    "# Print the SPY closing price\n",
    "print(f'SPY closed at ${spy_close_price:,.2f}')"
   ]
  },
  {
   "cell_type": "markdown",
   "metadata": {},
   "source": [
    "#### Step 6: Calculate the value, in US dollars, of the current amount of shares in each of the stock and bond portions of the portfolio, and print the results."
   ]
  },
  {
   "cell_type": "code",
   "execution_count": 21,
   "metadata": {},
   "outputs": [
    {
     "name": "stdout",
     "output_type": "stream",
     "text": [
      "The bond portfolio is currently valued at $23,886.00\n"
     ]
    }
   ],
   "source": [
    "# Calculate the current value of the bond portion of the portfolio\n",
    "\n",
    "agg_value = agg_close_price * agg_shares\n",
    "\n",
    "\n",
    "# Print the current value of the bond portfolio\n",
    "\n",
    "print(f'The bond portfolio is currently valued at ${agg_value:,.2f}')\n"
   ]
  },
  {
   "cell_type": "code",
   "execution_count": 22,
   "metadata": {},
   "outputs": [
    {
     "name": "stdout",
     "output_type": "stream",
     "text": [
      "The stock portfolio is currently valued at $36,802.70\n"
     ]
    }
   ],
   "source": [
    "# Calculate the current value of the stock portion of the portfolio\n",
    "\n",
    "spy_value = spy_close_price * spy_shares\n",
    "\n",
    "# Print the current value of the stock portfolio\n",
    "\n",
    "print(f'The stock portfolio is currently valued at ${spy_value:,.2f}')\n"
   ]
  },
  {
   "cell_type": "code",
   "execution_count": 23,
   "metadata": {},
   "outputs": [
    {
     "name": "stdout",
     "output_type": "stream",
     "text": [
      "The equity investment portfolio is currently valued at $60,688.70\n"
     ]
    }
   ],
   "source": [
    "# Calculate the total value of the stock and bond portion of the portfolio\n",
    "total_stocks_bonds = spy_value + agg_value\n",
    "\n",
    "# Print the current balance of the stock and bond portion of the portfolio\n",
    "print(f'The equity investment portfolio is currently valued at ${total_stocks_bonds :,.2f}')\n"
   ]
  },
  {
   "cell_type": "code",
   "execution_count": 24,
   "metadata": {},
   "outputs": [
    {
     "name": "stdout",
     "output_type": "stream",
     "text": [
      "The balance of your combined investments is $106,610.80; this includes all of your cryptocurrency, stocks, and bonds.\n"
     ]
    }
   ],
   "source": [
    "# Calculate the total value of the member's entire savings portfolio\n",
    "# Add the value of the cryptocurrency walled to the value of the total stocks and bonds\n",
    "TPV = total_portfolio = total_crypto_wallet + total_stocks_bonds\n",
    "\n",
    "# Print current cryptocurrency wallet balance\n",
    "print(f'The balance of your combined investments is ${total_portfolio:,.2f}; this includes all of your cryptocurrency, stocks, and bonds.')\n"
   ]
  },
  {
   "cell_type": "markdown",
   "metadata": {},
   "source": [
    "### Evaluate the Emergency Fund\n",
    "\n",
    "In this section, you’ll use the valuations for the cryptocurrency wallet and for the stock and bond portions of the portfolio to determine if the credit union member has enough savings to build an emergency fund into their financial plan. To do this, complete the following steps:\n",
    "\n",
    "1. Create a Python list named `savings_data` that has two elements. The first element contains the total value of the cryptocurrency wallet. The second element contains the total value of the stock and bond portions of the portfolio.\n",
    "\n",
    "2. Use the `savings_data` list to create a Pandas DataFrame named `savings_df`, and then display this DataFrame. The function to create the DataFrame should take the following three parameters:\n",
    "\n",
    "    - `savings_data`: Use the list that you just created.\n",
    "\n",
    "    - `columns`: Set this parameter equal to a Python list with a single value called `amount`.\n",
    "\n",
    "    - `index`: Set this parameter equal to a Python list with the values of `crypto` and `stock/bond`.\n",
    "\n",
    "3. Use the `savings_df` DataFrame to plot a pie chart that visualizes the composition of the member’s portfolio. The y-axis of the pie chart uses `amount`. Be sure to add a title.\n",
    "\n",
    "4. Using Python, determine if the current portfolio has enough to create an emergency fund as part of the member’s financial plan. Ideally, an emergency fund should equal to three times the member’s monthly income. To do this, implement the following steps:\n",
    "\n",
    "    1. Create a variable named `emergency_fund_value`, and set it equal to three times the value of the member’s `monthly_income` of $12000. (You set this earlier in Part 1).\n",
    "\n",
    "    2. Create a series of three if statements to determine if the member’s total portfolio is large enough to fund the emergency portfolio:\n",
    "\n",
    "        1. If the total portfolio value is greater than the emergency fund value, display a message congratulating the member for having enough money in this fund.\n",
    "\n",
    "        2. Else if the total portfolio value is equal to the emergency fund value, display a message congratulating the member on reaching this important financial goal.\n",
    "\n",
    "        3. Else the total portfolio is less than the emergency fund value, so display a message showing how many dollars away the member is from reaching the goal. (Subtract the total portfolio value from the emergency fund value.)\n"
   ]
  },
  {
   "cell_type": "markdown",
   "metadata": {},
   "source": [
    "#### Step 1: Create a Python list named `savings_data` that has two elements. The first element contains the total value of the cryptocurrency wallet. The second element contains the total value of the stock and bond portions of the portfolio."
   ]
  },
  {
   "cell_type": "code",
   "execution_count": 25,
   "metadata": {},
   "outputs": [
    {
     "data": {
      "text/plain": [
       "[45922.096999999994, 60688.7]"
      ]
     },
     "execution_count": 25,
     "metadata": {},
     "output_type": "execute_result"
    }
   ],
   "source": [
    "# Consolidate financial assets data into a Python list\n",
    "savings_data = [total_crypto_wallet, total_stocks_bonds]\n",
    "\n",
    "# Review the Python list savings_data\n",
    "savings_data\n",
    "    "
   ]
  },
  {
   "cell_type": "markdown",
   "metadata": {},
   "source": [
    "#### Step 2: Use the `savings_data` list to create a Pandas DataFrame named `savings_df`, and then display this DataFrame. The function to create the DataFrame should take the following three parameters:\n",
    "\n",
    "- `savings_data`: Use the list that you just created.\n",
    "\n",
    "- `columns`: Set this parameter equal to a Python list with a single value called `amount`.\n",
    "\n",
    "- `index`: Set this parameter equal to a Python list with the values of `crypto` and `stock/bond`.\n"
   ]
  },
  {
   "cell_type": "code",
   "execution_count": 26,
   "metadata": {},
   "outputs": [
    {
     "data": {
      "text/html": [
       "<div>\n",
       "<style scoped>\n",
       "    .dataframe tbody tr th:only-of-type {\n",
       "        vertical-align: middle;\n",
       "    }\n",
       "\n",
       "    .dataframe tbody tr th {\n",
       "        vertical-align: top;\n",
       "    }\n",
       "\n",
       "    .dataframe thead th {\n",
       "        text-align: right;\n",
       "    }\n",
       "</style>\n",
       "<table border=\"1\" class=\"dataframe\">\n",
       "  <thead>\n",
       "    <tr style=\"text-align: right;\">\n",
       "      <th></th>\n",
       "      <th>amount</th>\n",
       "    </tr>\n",
       "  </thead>\n",
       "  <tbody>\n",
       "    <tr>\n",
       "      <th>Cryptocurrency Wallet</th>\n",
       "      <td>45922.097</td>\n",
       "    </tr>\n",
       "    <tr>\n",
       "      <th>Stocks &amp; Bonds</th>\n",
       "      <td>60688.700</td>\n",
       "    </tr>\n",
       "  </tbody>\n",
       "</table>\n",
       "</div>"
      ],
      "text/plain": [
       "                          amount\n",
       "Cryptocurrency Wallet  45922.097\n",
       "Stocks & Bonds         60688.700"
      ]
     },
     "execution_count": 26,
     "metadata": {},
     "output_type": "execute_result"
    }
   ],
   "source": [
    "# Create a Pandas DataFrame called savings_df \n",
    "columns = ['amount']\n",
    "\n",
    "index = ['Cryptocurrency Wallet', 'Stocks & Bonds']\n",
    "\n",
    "savings_df = pd.DataFrame(data=savings_data, columns=columns, index=index)\n",
    "\n",
    "# Display the savings_df DataFrame\n",
    "savings_df"
   ]
  },
  {
   "cell_type": "markdown",
   "metadata": {},
   "source": [
    "#### Step 3: Use the `savings_df` DataFrame to plot a pie chart that visualizes the composition of the member’s portfolio. The y-axis of the pie chart uses `amount`. Be sure to add a title."
   ]
  },
  {
   "cell_type": "code",
   "execution_count": 27,
   "metadata": {},
   "outputs": [
    {
     "data": {
      "text/plain": [
       "Text(0, 0.5, '')"
      ]
     },
     "execution_count": 27,
     "metadata": {},
     "output_type": "execute_result"
    },
    {
     "data": {
      "image/png": "[encoded data removed]",
      "text/plain": [
       "<Figure size 400x400 with 1 Axes>"
      ]
     },
     "metadata": {},
     "output_type": "display_data"
    }
   ],
   "source": [
    "# Plot the total value of the member's portfolio (crypto and stock/bond) in a pie chart\n",
    "\n",
    "ax = savings_df.plot.pie(y='amount', figsize=(4, 4), autopct='%1.1f%%', legend=False,\n",
    "                         title='Your Portfolio Composition by Asset Types: Aug. 7, 2020')\n",
    "\n",
    "ax.set_ylabel('') # added because y-axis label looked distracting and unnecessary\n",
    "\n"
   ]
  },
  {
   "cell_type": "markdown",
   "metadata": {},
   "source": [
    "#### Step 4: Using Python, determine if the current portfolio has enough to create an emergency fund as part of the member’s financial plan. Ideally, an emergency fund should equal to three times the member’s monthly income. To do this, implement the following steps:\n",
    "\n",
    "Step 1. Create a variable named `emergency_fund_value`, and set it equal to three times the value of the member’s `monthly_income` of 12000. (You set this earlier in Part 1).\n",
    "\n",
    "Step 2. Create a series of three if statements to determine if the member’s total portfolio is large enough to fund the emergency portfolio:\n",
    "\n",
    "* If the total portfolio value is greater than the emergency fund value, display a message congratulating the member for having enough money in this fund.\n",
    "\n",
    "* Else if the total portfolio value is equal to the emergency fund value, display a message congratulating the member on reaching this important financial goal.\n",
    "\n",
    "* Else the total portfolio is less than the emergency fund value, so display a message showing how many dollars away the member is from reaching the goal. (Subtract the total portfolio value from the emergency fund value.)\n"
   ]
  },
  {
   "cell_type": "markdown",
   "metadata": {},
   "source": [
    "##### Step 4-1: Create a variable named `emergency_fund_value`, and set it equal to three times the value of the member’s `monthly_income` of 12000. (You set this earlier in Part 1)."
   ]
  },
  {
   "cell_type": "code",
   "execution_count": 28,
   "metadata": {},
   "outputs": [
    {
     "name": "stdout",
     "output_type": "stream",
     "text": [
      "We recommend all UCB Fintech Advisors Members maintain an `Emergency Fund` equal to 3x their monthly income; in your case, $36,000.00\n"
     ]
    }
   ],
   "source": [
    "# Create a variable named emergency_fund_value\n",
    "\n",
    "EFV = emergency_fund_value = AMS * 3\n",
    "\n",
    "print(f'We recommend all UCB Fintech Advisors Members maintain an `Emergency Fund` equal to 3x their monthly income; in your case, ${EFV:,.2f}')"
   ]
  },
  {
   "cell_type": "markdown",
   "metadata": {},
   "source": [
    "##### Step 4-2: Create a series of three if statements to determine if the member’s total portfolio is large enough to fund the emergency portfolio:\n",
    "\n",
    "* If the total portfolio value is greater than the emergency fund value, display a message congratulating the member for having enough money in this fund.\n",
    "\n",
    "* Else if the total portfolio value is equal to the emergency fund value, display a message congratulating the member on reaching this important financial goal.\n",
    "\n",
    "* Else the total portfolio is less than the emergency fund value, so display a message showing how many dollars away the member is from reaching the goal. (Subtract the total portfolio value from the emergency fund value.)"
   ]
  },
  {
   "cell_type": "code",
   "execution_count": 29,
   "metadata": {},
   "outputs": [
    {
     "name": "stdout",
     "output_type": "stream",
     "text": [
      "Boom! Savings surpassed our \"Fiscal Health\" benchmark. Congratulations, you now have a \"mad money\" reserve of $70,610.80\n"
     ]
    }
   ],
   "source": [
    "# Evaluate the possibility of creating an emergency fund with 3 conditions:\n",
    "\n",
    "# to test these conditions, toggle the # tags below to test values for each statement\n",
    "# TPV = 12000\n",
    "# TPV = 36000\n",
    "# TPV = 48000\n",
    "\n",
    "# if you decide to test the outputs here in prototype, don't forget to clear and reload original variables to maintain accurate values for variables! \n",
    "\n",
    "# note variable names previously equated to starter code for purposes of either shortened alias and better visual inline definition \n",
    "\n",
    "if TPV > EFV:\n",
    "    surplus = TPV - EFV\n",
    "    print(f'Boom! Savings surpassed our \"Fiscal Health\" benchmark. Congratulations, you now have a \"mad money\" reserve of ${surplus:,.2f}')\n",
    "elif TPV == EFV:\n",
    "    print(f'Phew! You just met the financial goal of ${EFV:,.2f} in savings. Congrats and keep up the good work!')\n",
    "else:\n",
    "    deficit = EFV - TPV\n",
    "    print(f\"You are just ${deficit:,.2f} away from our 'emergency reserves' savings requirement for financial stability\")\n"
   ]
  },
  {
   "cell_type": "markdown",
   "metadata": {},
   "source": [
    "## Part 2: Create a Financial Planner for Retirement"
   ]
  },
  {
   "cell_type": "markdown",
   "metadata": {},
   "source": [
    "### Create the Monte Carlo Simulation\n",
    "\n",
    "In this section, you’ll use the MCForecastTools library to create a Monte Carlo simulation for the member’s savings portfolio. To do this, complete the following steps:\n",
    "\n",
    "1. Make an API call via the Alpaca SDK to get 3 years of historical closing prices for a traditional 60/40 portfolio split: 60% stocks (SPY) and 40% bonds (AGG).\n",
    "\n",
    "2. Run a Monte Carlo simulation of 500 samples and 30 years for the 60/40 portfolio, and then plot the results.The following image shows the overlay line plot resulting from a simulation with these characteristics. However, because a random number generator is used to run each live Monte Carlo simulation, your image will differ slightly from this exact image:\n",
    "\n",
    "![A screenshot depicts the resulting plot.](Images/5-4-monte-carlo-line-plot.png)\n",
    "\n",
    "3. Plot the probability distribution of the Monte Carlo simulation. Plot the probability distribution of the Monte Carlo simulation. The following image shows the histogram plot resulting from a simulation with these characteristics. However, because a random number generator is used to run each live Monte Carlo simulation, your image will differ slightly from this exact image:\n",
    "\n",
    "![A screenshot depicts the histogram plot.](Images/5-4-monte-carlo-histogram.png)\n",
    "\n",
    "4. Generate the summary statistics for the Monte Carlo simulation.\n",
    "\n"
   ]
  },
  {
   "cell_type": "markdown",
   "metadata": {},
   "source": [
    "#### Step 1: Make an API call via the Alpaca SDK to get 3 years of historical closing prices for a traditional 60/40 portfolio split: 60% stocks (SPY) and 40% bonds (AGG)."
   ]
  },
  {
   "cell_type": "code",
   "execution_count": 30,
   "metadata": {},
   "outputs": [],
   "source": [
    "# Set start and end dates of 3 years back from your current date\n",
    "# Alternatively, you can use an end date of 2020-08-07 and work 3 years back from that date \n",
    "start_call = pd.Timestamp(\"2017-08-07\", tz=\"America/New_York\").isoformat()\n",
    "end_call = pd.Timestamp(\"2020-08-07\", tz=\"America/New_York\").isoformat()\n",
    "\n",
    "# Set number of rows to 1000 to retrieve the maximum amount of rows\n",
    "limit_rows = 1000"
   ]
  },
  {
   "cell_type": "code",
   "execution_count": 31,
   "metadata": {},
   "outputs": [
    {
     "data": {
      "text/plain": [
       "(                              SPY                                       \\\n",
       "                              open    high     low     close     volume   \n",
       " timestamp                                                                \n",
       " 2017-08-07 04:00:00+00:00  247.49  247.87  247.37  247.8400   31995021   \n",
       " 2017-08-08 04:00:00+00:00  247.51  248.91  246.83  247.2700   61719353   \n",
       " 2017-08-09 04:00:00+00:00  246.47  247.31  246.06  247.2700   62632619   \n",
       " 2017-08-10 04:00:00+00:00  246.29  246.44  243.70  243.7599  120418270   \n",
       " 2017-08-11 04:00:00+00:00  244.02  244.80  243.75  244.1100   74869947   \n",
       " \n",
       "                                                       AGG                    \\\n",
       "                           trade_count        vwap    open    high       low   \n",
       " timestamp                                                                     \n",
       " 2017-08-07 04:00:00+00:00      100111  247.668698  109.69  109.72  109.6066   \n",
       " 2017-08-08 04:00:00+00:00      192921  247.739709  109.67  109.69  109.5000   \n",
       " 2017-08-09 04:00:00+00:00      223650  246.791421  109.87  109.87  109.6600   \n",
       " 2017-08-10 04:00:00+00:00      424321  245.027847  109.70  109.85  109.6700   \n",
       " 2017-08-11 04:00:00+00:00      278786  244.222867  109.75  109.94  109.6800   \n",
       " \n",
       "                                                                      \n",
       "                              close   volume trade_count        vwap  \n",
       " timestamp                                                            \n",
       " 2017-08-07 04:00:00+00:00  109.685  2359826        7755  109.674876  \n",
       " 2017-08-08 04:00:00+00:00  109.580  2570876       12663  109.577636  \n",
       " 2017-08-09 04:00:00+00:00  109.670  2308932       11031  109.771749  \n",
       " 2017-08-10 04:00:00+00:00  109.800  2004163       12437  109.776611  \n",
       " 2017-08-11 04:00:00+00:00  109.870  1913253       10113  109.860974  ,\n",
       "                                 SPY                                    \\\n",
       "                                open    high     low   close    volume   \n",
       " timestamp                                                               \n",
       " 2020-08-03 04:00:00+00:00  328.3200  329.62  327.73  328.67  53078112   \n",
       " 2020-08-04 04:00:00+00:00  327.8600  330.06  327.86  330.00  41917896   \n",
       " 2020-08-05 04:00:00+00:00  331.4700  332.39  331.18  332.03  42870955   \n",
       " 2020-08-06 04:00:00+00:00  331.4799  334.46  331.13  334.32  43679448   \n",
       " 2020-08-07 04:00:00+00:00  333.2800  334.88  332.30  334.57  57282821   \n",
       " \n",
       "                                                       AGG                    \\\n",
       "                           trade_count        vwap    open    high       low   \n",
       " timestamp                                                                     \n",
       " 2020-08-03 04:00:00+00:00      288003  328.658795  119.37  119.40  119.1903   \n",
       " 2020-08-04 04:00:00+00:00      250899  329.057592  119.42  119.63  119.4200   \n",
       " 2020-08-05 04:00:00+00:00      241416  331.791643  119.39  119.49  119.3100   \n",
       " 2020-08-06 04:00:00+00:00      290036  332.939600  119.62  119.73  119.5300   \n",
       " 2020-08-07 04:00:00+00:00      350100  333.800372  119.66  119.73  119.3950   \n",
       " \n",
       "                                                                      \n",
       "                             close    volume trade_count        vwap  \n",
       " timestamp                                                            \n",
       " 2020-08-03 04:00:00+00:00  119.40  13014535       36359  119.282420  \n",
       " 2020-08-04 04:00:00+00:00  119.63  10935154       39113  119.541666  \n",
       " 2020-08-05 04:00:00+00:00  119.40  17377874       42313  119.387245  \n",
       " 2020-08-06 04:00:00+00:00  119.57   4608710       15938  119.604199  \n",
       " 2020-08-07 04:00:00+00:00  119.43   5559066       15246  119.475306  )"
      ]
     },
     "execution_count": 31,
     "metadata": {},
     "output_type": "execute_result"
    }
   ],
   "source": [
    "# Use the Alpaca get_bars function to make the API call to get the 3 years worth of pricing data\n",
    "# The tickers and timeframe parameters should have been set in Part 1 of this activity \n",
    "# The start and end dates should be updated with the information set above\n",
    "# Remember to add the df property to the end of the call so the response is returned as a DataFrame\n",
    "\n",
    "pfl_3yr_df = alpaca.get_bars(tickers, timeframe, start=start_call, end=end_call).df\n",
    "\n",
    "# Reorganize the DataFrame\n",
    "# Separate ticker data\n",
    "\n",
    "stocks_df = pfl_3yr_df[pfl_3yr_df['symbol']=='SPY'].drop('symbol', axis=1)\n",
    "bonds_df = pfl_3yr_df[pfl_3yr_df['symbol']=='AGG'].drop('symbol', axis=1)\n",
    "\n",
    "# Concatenate the ticker DataFrames\n",
    "\n",
    "pfl_3yr_df = pd.concat([stocks_df, bonds_df], axis=1, keys=[\"SPY\", \"AGG\"])\n",
    "\n",
    "# Display both the first and last five rows of the DataFrame\n",
    "\n",
    "pfl_3yr_df.head(), pfl_3yr_df.tail()"
   ]
  },
  {
   "cell_type": "markdown",
   "metadata": {},
   "source": [
    "#### Step 2: Run a Monte Carlo simulation of 500 samples and 30 years for the 60/40 portfolio, and then plot the results."
   ]
  },
  {
   "cell_type": "code",
   "execution_count": 41,
   "metadata": {},
   "outputs": [
    {
     "data": {
      "text/html": [
       "<div>\n",
       "<style scoped>\n",
       "    .dataframe tbody tr th:only-of-type {\n",
       "        vertical-align: middle;\n",
       "    }\n",
       "\n",
       "    .dataframe tbody tr th {\n",
       "        vertical-align: top;\n",
       "    }\n",
       "\n",
       "    .dataframe thead tr th {\n",
       "        text-align: left;\n",
       "    }\n",
       "\n",
       "    .dataframe thead tr:last-of-type th {\n",
       "        text-align: right;\n",
       "    }\n",
       "</style>\n",
       "<table border=\"1\" class=\"dataframe\">\n",
       "  <thead>\n",
       "    <tr>\n",
       "      <th></th>\n",
       "      <th colspan=\"8\" halign=\"left\">SPY</th>\n",
       "      <th colspan=\"8\" halign=\"left\">AGG</th>\n",
       "    </tr>\n",
       "    <tr>\n",
       "      <th></th>\n",
       "      <th>open</th>\n",
       "      <th>high</th>\n",
       "      <th>low</th>\n",
       "      <th>close</th>\n",
       "      <th>volume</th>\n",
       "      <th>trade_count</th>\n",
       "      <th>vwap</th>\n",
       "      <th>daily_return</th>\n",
       "      <th>open</th>\n",
       "      <th>high</th>\n",
       "      <th>low</th>\n",
       "      <th>close</th>\n",
       "      <th>volume</th>\n",
       "      <th>trade_count</th>\n",
       "      <th>vwap</th>\n",
       "      <th>daily_return</th>\n",
       "    </tr>\n",
       "    <tr>\n",
       "      <th>timestamp</th>\n",
       "      <th></th>\n",
       "      <th></th>\n",
       "      <th></th>\n",
       "      <th></th>\n",
       "      <th></th>\n",
       "      <th></th>\n",
       "      <th></th>\n",
       "      <th></th>\n",
       "      <th></th>\n",
       "      <th></th>\n",
       "      <th></th>\n",
       "      <th></th>\n",
       "      <th></th>\n",
       "      <th></th>\n",
       "      <th></th>\n",
       "      <th></th>\n",
       "    </tr>\n",
       "  </thead>\n",
       "  <tbody>\n",
       "    <tr>\n",
       "      <th>2017-08-07 04:00:00+00:00</th>\n",
       "      <td>247.49</td>\n",
       "      <td>247.87</td>\n",
       "      <td>247.37</td>\n",
       "      <td>247.8400</td>\n",
       "      <td>31995021</td>\n",
       "      <td>100111</td>\n",
       "      <td>247.668698</td>\n",
       "      <td>NaN</td>\n",
       "      <td>109.69</td>\n",
       "      <td>109.72</td>\n",
       "      <td>109.6066</td>\n",
       "      <td>109.685</td>\n",
       "      <td>2359826</td>\n",
       "      <td>7755</td>\n",
       "      <td>109.674876</td>\n",
       "      <td>NaN</td>\n",
       "    </tr>\n",
       "    <tr>\n",
       "      <th>2017-08-08 04:00:00+00:00</th>\n",
       "      <td>247.51</td>\n",
       "      <td>248.91</td>\n",
       "      <td>246.83</td>\n",
       "      <td>247.2700</td>\n",
       "      <td>61719353</td>\n",
       "      <td>192921</td>\n",
       "      <td>247.739709</td>\n",
       "      <td>-0.002300</td>\n",
       "      <td>109.67</td>\n",
       "      <td>109.69</td>\n",
       "      <td>109.5000</td>\n",
       "      <td>109.580</td>\n",
       "      <td>2570876</td>\n",
       "      <td>12663</td>\n",
       "      <td>109.577636</td>\n",
       "      <td>-0.000957</td>\n",
       "    </tr>\n",
       "    <tr>\n",
       "      <th>2017-08-09 04:00:00+00:00</th>\n",
       "      <td>246.47</td>\n",
       "      <td>247.31</td>\n",
       "      <td>246.06</td>\n",
       "      <td>247.2700</td>\n",
       "      <td>62632619</td>\n",
       "      <td>223650</td>\n",
       "      <td>246.791421</td>\n",
       "      <td>0.000000</td>\n",
       "      <td>109.87</td>\n",
       "      <td>109.87</td>\n",
       "      <td>109.6600</td>\n",
       "      <td>109.670</td>\n",
       "      <td>2308932</td>\n",
       "      <td>11031</td>\n",
       "      <td>109.771749</td>\n",
       "      <td>0.000821</td>\n",
       "    </tr>\n",
       "    <tr>\n",
       "      <th>2017-08-10 04:00:00+00:00</th>\n",
       "      <td>246.29</td>\n",
       "      <td>246.44</td>\n",
       "      <td>243.70</td>\n",
       "      <td>243.7599</td>\n",
       "      <td>120418270</td>\n",
       "      <td>424321</td>\n",
       "      <td>245.027847</td>\n",
       "      <td>-0.014195</td>\n",
       "      <td>109.70</td>\n",
       "      <td>109.85</td>\n",
       "      <td>109.6700</td>\n",
       "      <td>109.800</td>\n",
       "      <td>2004163</td>\n",
       "      <td>12437</td>\n",
       "      <td>109.776611</td>\n",
       "      <td>0.001185</td>\n",
       "    </tr>\n",
       "    <tr>\n",
       "      <th>2017-08-11 04:00:00+00:00</th>\n",
       "      <td>244.02</td>\n",
       "      <td>244.80</td>\n",
       "      <td>243.75</td>\n",
       "      <td>244.1100</td>\n",
       "      <td>74869947</td>\n",
       "      <td>278786</td>\n",
       "      <td>244.222867</td>\n",
       "      <td>0.001436</td>\n",
       "      <td>109.75</td>\n",
       "      <td>109.94</td>\n",
       "      <td>109.6800</td>\n",
       "      <td>109.870</td>\n",
       "      <td>1913253</td>\n",
       "      <td>10113</td>\n",
       "      <td>109.860974</td>\n",
       "      <td>0.000638</td>\n",
       "    </tr>\n",
       "  </tbody>\n",
       "</table>\n",
       "</div>"
      ],
      "text/plain": [
       "                              SPY                                       \\\n",
       "                             open    high     low     close     volume   \n",
       "timestamp                                                                \n",
       "2017-08-07 04:00:00+00:00  247.49  247.87  247.37  247.8400   31995021   \n",
       "2017-08-08 04:00:00+00:00  247.51  248.91  246.83  247.2700   61719353   \n",
       "2017-08-09 04:00:00+00:00  246.47  247.31  246.06  247.2700   62632619   \n",
       "2017-08-10 04:00:00+00:00  246.29  246.44  243.70  243.7599  120418270   \n",
       "2017-08-11 04:00:00+00:00  244.02  244.80  243.75  244.1100   74869947   \n",
       "\n",
       "                                                                   AGG  \\\n",
       "                          trade_count        vwap daily_return    open   \n",
       "timestamp                                                                \n",
       "2017-08-07 04:00:00+00:00      100111  247.668698          NaN  109.69   \n",
       "2017-08-08 04:00:00+00:00      192921  247.739709    -0.002300  109.67   \n",
       "2017-08-09 04:00:00+00:00      223650  246.791421     0.000000  109.87   \n",
       "2017-08-10 04:00:00+00:00      424321  245.027847    -0.014195  109.70   \n",
       "2017-08-11 04:00:00+00:00      278786  244.222867     0.001436  109.75   \n",
       "\n",
       "                                                                           \\\n",
       "                             high       low    close   volume trade_count   \n",
       "timestamp                                                                   \n",
       "2017-08-07 04:00:00+00:00  109.72  109.6066  109.685  2359826        7755   \n",
       "2017-08-08 04:00:00+00:00  109.69  109.5000  109.580  2570876       12663   \n",
       "2017-08-09 04:00:00+00:00  109.87  109.6600  109.670  2308932       11031   \n",
       "2017-08-10 04:00:00+00:00  109.85  109.6700  109.800  2004163       12437   \n",
       "2017-08-11 04:00:00+00:00  109.94  109.6800  109.870  1913253       10113   \n",
       "\n",
       "                                                    \n",
       "                                 vwap daily_return  \n",
       "timestamp                                           \n",
       "2017-08-07 04:00:00+00:00  109.674876          NaN  \n",
       "2017-08-08 04:00:00+00:00  109.577636    -0.000957  \n",
       "2017-08-09 04:00:00+00:00  109.771749     0.000821  \n",
       "2017-08-10 04:00:00+00:00  109.776611     0.001185  \n",
       "2017-08-11 04:00:00+00:00  109.860974     0.000638  "
      ]
     },
     "metadata": {},
     "output_type": "display_data"
    },
    {
     "data": {
      "text/html": [
       "<div>\n",
       "<style scoped>\n",
       "    .dataframe tbody tr th:only-of-type {\n",
       "        vertical-align: middle;\n",
       "    }\n",
       "\n",
       "    .dataframe tbody tr th {\n",
       "        vertical-align: top;\n",
       "    }\n",
       "\n",
       "    .dataframe thead tr th {\n",
       "        text-align: left;\n",
       "    }\n",
       "\n",
       "    .dataframe thead tr:last-of-type th {\n",
       "        text-align: right;\n",
       "    }\n",
       "</style>\n",
       "<table border=\"1\" class=\"dataframe\">\n",
       "  <thead>\n",
       "    <tr>\n",
       "      <th></th>\n",
       "      <th colspan=\"8\" halign=\"left\">SPY</th>\n",
       "      <th colspan=\"8\" halign=\"left\">AGG</th>\n",
       "    </tr>\n",
       "    <tr>\n",
       "      <th></th>\n",
       "      <th>open</th>\n",
       "      <th>high</th>\n",
       "      <th>low</th>\n",
       "      <th>close</th>\n",
       "      <th>volume</th>\n",
       "      <th>trade_count</th>\n",
       "      <th>vwap</th>\n",
       "      <th>daily_return</th>\n",
       "      <th>open</th>\n",
       "      <th>high</th>\n",
       "      <th>low</th>\n",
       "      <th>close</th>\n",
       "      <th>volume</th>\n",
       "      <th>trade_count</th>\n",
       "      <th>vwap</th>\n",
       "      <th>daily_return</th>\n",
       "    </tr>\n",
       "    <tr>\n",
       "      <th>timestamp</th>\n",
       "      <th></th>\n",
       "      <th></th>\n",
       "      <th></th>\n",
       "      <th></th>\n",
       "      <th></th>\n",
       "      <th></th>\n",
       "      <th></th>\n",
       "      <th></th>\n",
       "      <th></th>\n",
       "      <th></th>\n",
       "      <th></th>\n",
       "      <th></th>\n",
       "      <th></th>\n",
       "      <th></th>\n",
       "      <th></th>\n",
       "      <th></th>\n",
       "    </tr>\n",
       "  </thead>\n",
       "  <tbody>\n",
       "    <tr>\n",
       "      <th>2020-08-03 04:00:00+00:00</th>\n",
       "      <td>328.3200</td>\n",
       "      <td>329.62</td>\n",
       "      <td>327.73</td>\n",
       "      <td>328.67</td>\n",
       "      <td>53078112</td>\n",
       "      <td>288003</td>\n",
       "      <td>328.658795</td>\n",
       "      <td>0.006955</td>\n",
       "      <td>119.37</td>\n",
       "      <td>119.40</td>\n",
       "      <td>119.1903</td>\n",
       "      <td>119.40</td>\n",
       "      <td>13014535</td>\n",
       "      <td>36359</td>\n",
       "      <td>119.282420</td>\n",
       "      <td>-0.001338</td>\n",
       "    </tr>\n",
       "    <tr>\n",
       "      <th>2020-08-04 04:00:00+00:00</th>\n",
       "      <td>327.8600</td>\n",
       "      <td>330.06</td>\n",
       "      <td>327.86</td>\n",
       "      <td>330.00</td>\n",
       "      <td>41917896</td>\n",
       "      <td>250899</td>\n",
       "      <td>329.057592</td>\n",
       "      <td>0.004047</td>\n",
       "      <td>119.42</td>\n",
       "      <td>119.63</td>\n",
       "      <td>119.4200</td>\n",
       "      <td>119.63</td>\n",
       "      <td>10935154</td>\n",
       "      <td>39113</td>\n",
       "      <td>119.541666</td>\n",
       "      <td>0.001926</td>\n",
       "    </tr>\n",
       "    <tr>\n",
       "      <th>2020-08-05 04:00:00+00:00</th>\n",
       "      <td>331.4700</td>\n",
       "      <td>332.39</td>\n",
       "      <td>331.18</td>\n",
       "      <td>332.03</td>\n",
       "      <td>42870955</td>\n",
       "      <td>241416</td>\n",
       "      <td>331.791643</td>\n",
       "      <td>0.006152</td>\n",
       "      <td>119.39</td>\n",
       "      <td>119.49</td>\n",
       "      <td>119.3100</td>\n",
       "      <td>119.40</td>\n",
       "      <td>17377874</td>\n",
       "      <td>42313</td>\n",
       "      <td>119.387245</td>\n",
       "      <td>-0.001923</td>\n",
       "    </tr>\n",
       "    <tr>\n",
       "      <th>2020-08-06 04:00:00+00:00</th>\n",
       "      <td>331.4799</td>\n",
       "      <td>334.46</td>\n",
       "      <td>331.13</td>\n",
       "      <td>334.32</td>\n",
       "      <td>43679448</td>\n",
       "      <td>290036</td>\n",
       "      <td>332.939600</td>\n",
       "      <td>0.006897</td>\n",
       "      <td>119.62</td>\n",
       "      <td>119.73</td>\n",
       "      <td>119.5300</td>\n",
       "      <td>119.57</td>\n",
       "      <td>4608710</td>\n",
       "      <td>15938</td>\n",
       "      <td>119.604199</td>\n",
       "      <td>0.001424</td>\n",
       "    </tr>\n",
       "    <tr>\n",
       "      <th>2020-08-07 04:00:00+00:00</th>\n",
       "      <td>333.2800</td>\n",
       "      <td>334.88</td>\n",
       "      <td>332.30</td>\n",
       "      <td>334.57</td>\n",
       "      <td>57282821</td>\n",
       "      <td>350100</td>\n",
       "      <td>333.800372</td>\n",
       "      <td>0.000748</td>\n",
       "      <td>119.66</td>\n",
       "      <td>119.73</td>\n",
       "      <td>119.3950</td>\n",
       "      <td>119.43</td>\n",
       "      <td>5559066</td>\n",
       "      <td>15246</td>\n",
       "      <td>119.475306</td>\n",
       "      <td>-0.001171</td>\n",
       "    </tr>\n",
       "  </tbody>\n",
       "</table>\n",
       "</div>"
      ],
      "text/plain": [
       "                                SPY                                    \\\n",
       "                               open    high     low   close    volume   \n",
       "timestamp                                                               \n",
       "2020-08-03 04:00:00+00:00  328.3200  329.62  327.73  328.67  53078112   \n",
       "2020-08-04 04:00:00+00:00  327.8600  330.06  327.86  330.00  41917896   \n",
       "2020-08-05 04:00:00+00:00  331.4700  332.39  331.18  332.03  42870955   \n",
       "2020-08-06 04:00:00+00:00  331.4799  334.46  331.13  334.32  43679448   \n",
       "2020-08-07 04:00:00+00:00  333.2800  334.88  332.30  334.57  57282821   \n",
       "\n",
       "                                                                   AGG  \\\n",
       "                          trade_count        vwap daily_return    open   \n",
       "timestamp                                                                \n",
       "2020-08-03 04:00:00+00:00      288003  328.658795     0.006955  119.37   \n",
       "2020-08-04 04:00:00+00:00      250899  329.057592     0.004047  119.42   \n",
       "2020-08-05 04:00:00+00:00      241416  331.791643     0.006152  119.39   \n",
       "2020-08-06 04:00:00+00:00      290036  332.939600     0.006897  119.62   \n",
       "2020-08-07 04:00:00+00:00      350100  333.800372     0.000748  119.66   \n",
       "\n",
       "                                                                           \\\n",
       "                             high       low   close    volume trade_count   \n",
       "timestamp                                                                   \n",
       "2020-08-03 04:00:00+00:00  119.40  119.1903  119.40  13014535       36359   \n",
       "2020-08-04 04:00:00+00:00  119.63  119.4200  119.63  10935154       39113   \n",
       "2020-08-05 04:00:00+00:00  119.49  119.3100  119.40  17377874       42313   \n",
       "2020-08-06 04:00:00+00:00  119.73  119.5300  119.57   4608710       15938   \n",
       "2020-08-07 04:00:00+00:00  119.73  119.3950  119.43   5559066       15246   \n",
       "\n",
       "                                                    \n",
       "                                 vwap daily_return  \n",
       "timestamp                                           \n",
       "2020-08-03 04:00:00+00:00  119.282420    -0.001338  \n",
       "2020-08-04 04:00:00+00:00  119.541666     0.001926  \n",
       "2020-08-05 04:00:00+00:00  119.387245    -0.001923  \n",
       "2020-08-06 04:00:00+00:00  119.604199     0.001424  \n",
       "2020-08-07 04:00:00+00:00  119.475306    -0.001171  "
      ]
     },
     "metadata": {},
     "output_type": "display_data"
    },
    {
     "data": {
      "text/plain": [
       "(None, None)"
      ]
     },
     "execution_count": 41,
     "metadata": {},
     "output_type": "execute_result"
    }
   ],
   "source": [
    "# Configure the Monte Carlo simulation to forecast 30 years cumulative returns\n",
    "# The weights should be split 40% to AGG and 60% to SPY.\n",
    "# Run 500 samples.\n",
    "# traditional_6040 = \n",
    "\n",
    "mc_30yr_simulation = MCSimulation(\n",
    "    portfolio_data=pfl_3yr_df,\n",
    "    weights = [.60,.40],\n",
    "    num_simulation = 500, \n",
    "    num_trading_days = 252*30\n",
    ")\n",
    "\n",
    "# Review the simulation input data\n",
    "display(mc_30yr_simulation.portfolio_data.head()), display(mc_30yr_simulation.portfolio_data.tail())"
   ]
  },
  {
   "cell_type": "code",
   "execution_count": null,
   "metadata": {},
   "outputs": [],
   "source": [
    "# Run the Monte Carlo simulation to forecast 30 years cumulative returns\n",
    "# YOUR CODE HERE\n"
   ]
  },
  {
   "cell_type": "code",
   "execution_count": null,
   "metadata": {},
   "outputs": [],
   "source": [
    "# Visualize the 30-year Monte Carlo simulation by creating an\n",
    "# overlay line plot\n",
    "# YOUR CODE HERE\n"
   ]
  },
  {
   "cell_type": "markdown",
   "metadata": {},
   "source": [
    "#### Step 3: Plot the probability distribution of the Monte Carlo simulation."
   ]
  },
  {
   "cell_type": "code",
   "execution_count": null,
   "metadata": {},
   "outputs": [],
   "source": [
    "# Visualize the probability distribution of the 30-year Monte Carlo simulation \n",
    "# by plotting a histogram\n",
    "# YOUR CODE HERE\n"
   ]
  },
  {
   "cell_type": "markdown",
   "metadata": {},
   "source": [
    "#### Step 4: Generate the summary statistics for the Monte Carlo simulation."
   ]
  },
  {
   "cell_type": "code",
   "execution_count": null,
   "metadata": {},
   "outputs": [],
   "source": [
    "# Generate summary statistics from the 30-year Monte Carlo simulation results\n",
    "# Save the results as a variable\n",
    "# YOUR CODE HERE\n",
    "\n",
    "\n",
    "# Review the 30-year Monte Carlo summary statistics\n",
    "# YOUR CODE HERE"
   ]
  },
  {
   "cell_type": "markdown",
   "metadata": {},
   "source": [
    "### Analyze the Retirement Portfolio Forecasts\n",
    "\n",
    "Using the current value of only the stock and bond portion of the member's portfolio and the summary statistics that you generated from the Monte Carlo simulation, answer the following question in your Jupyter notebook:\n",
    "\n",
    "-  What are the lower and upper bounds for the expected value of the portfolio with a 95% confidence interval?\n"
   ]
  },
  {
   "cell_type": "code",
   "execution_count": null,
   "metadata": {},
   "outputs": [],
   "source": [
    "# Print the current balance of the stock and bond portion of the members portfolio\n",
    "# YOUR CODE HERE\n"
   ]
  },
  {
   "cell_type": "code",
   "execution_count": null,
   "metadata": {},
   "outputs": [],
   "source": [
    "# Use the lower and upper `95%` confidence intervals to calculate the range of the possible outcomes for the current stock/bond portfolio\n",
    "ci_lower_thirty_cumulative_return = # YOUR CODE HERE\n",
    "ci_upper_thirty_cumulative_return = # YOUR CODE HERE\n",
    "\n",
    "# Print the result of your calculations\n",
    "# YOUR CODE HERE\n"
   ]
  },
  {
   "cell_type": "markdown",
   "metadata": {},
   "source": [
    "### Forecast Cumulative Returns in 10 Years\n",
    "\n",
    "The CTO of the credit union is impressed with your work on these planning tools but wonders if 30 years is a long time to wait until retirement. So, your next task is to adjust the retirement portfolio and run a new Monte Carlo simulation to find out if the changes will allow members to retire earlier.\n",
    "\n",
    "For this new Monte Carlo simulation, do the following: \n",
    "\n",
    "- Forecast the cumulative returns for 10 years from now. Because of the shortened investment horizon (30 years to 10 years), the portfolio needs to invest more heavily in the riskier asset&mdash;that is, stock&mdash;to help accumulate wealth for retirement. \n",
    "\n",
    "- Adjust the weights of the retirement portfolio so that the composition for the Monte Carlo simulation consists of 20% bonds and 80% stocks. \n",
    "\n",
    "- Run the simulation over 500 samples, and use the same data that the API call to Alpaca generated.\n",
    "\n",
    "- Based on the new Monte Carlo simulation, answer the following questions in your Jupyter notebook:\n",
    "\n",
    "    - Using the current value of only the stock and bond portion of the member's portfolio and the summary statistics that you generated from the new Monte Carlo simulation, what are the lower and upper bounds for the expected value of the portfolio (with the new weights) with a 95% confidence interval?\n",
    "\n",
    "    - Will weighting the portfolio more heavily toward stocks allow the credit union members to retire after only 10 years?\n"
   ]
  },
  {
   "cell_type": "code",
   "execution_count": null,
   "metadata": {},
   "outputs": [],
   "source": [
    "# Configure a Monte Carlo simulation to forecast 10 years cumulative returns\n",
    "# The weights should be split 20% to AGG and 80% to SPY.\n",
    "# Run 500 samples.\n",
    "# YOUR CODE HERE\n",
    "\n",
    "# Review the simulation input data\n",
    "# YOUR CODE HERE\n"
   ]
  },
  {
   "cell_type": "code",
   "execution_count": null,
   "metadata": {},
   "outputs": [],
   "source": [
    "# Run the Monte Carlo simulation to forecast 10 years cumulative returns\n",
    "# YOUR CODE HERE\n"
   ]
  },
  {
   "cell_type": "code",
   "execution_count": null,
   "metadata": {},
   "outputs": [],
   "source": [
    "# Visualize the 10-year Monte Carlo simulation by creating an\n",
    "# overlay line plot\n",
    "# YOUR CODE HERE\n"
   ]
  },
  {
   "cell_type": "code",
   "execution_count": null,
   "metadata": {},
   "outputs": [],
   "source": [
    "# Visualize the probability distribution of the 10-year Monte Carlo simulation \n",
    "# by plotting a histogram\n",
    "# YOUR CODE HERE\n"
   ]
  },
  {
   "cell_type": "code",
   "execution_count": null,
   "metadata": {},
   "outputs": [],
   "source": [
    "# Generate summary statistics from the 10-year Monte Carlo simulation results\n",
    "# Save the results as a variable\n",
    "# YOUR CODE HERE\n",
    "\n",
    "\n",
    "# Review the 10-year Monte Carlo summary statistics\n",
    "# YOUR CODE HERE"
   ]
  },
  {
   "cell_type": "markdown",
   "metadata": {},
   "source": [
    "### Answer the following questions:"
   ]
  },
  {
   "cell_type": "markdown",
   "metadata": {},
   "source": [
    "#### Question: Using the current value of only the stock and bond portion of the member's portfolio and the summary statistics that you generated from the new Monte Carlo simulation, what are the lower and upper bounds for the expected value of the portfolio (with the new weights) with a 95% confidence interval?"
   ]
  },
  {
   "cell_type": "code",
   "execution_count": null,
   "metadata": {},
   "outputs": [],
   "source": [
    "# Print the current balance of the stock and bond portion of the members portfolio\n",
    "# YOUR CODE HERE\n"
   ]
  },
  {
   "cell_type": "code",
   "execution_count": null,
   "metadata": {},
   "outputs": [],
   "source": [
    "# Use the lower and upper `95%` confidence intervals to calculate the range of the possible outcomes for the current stock/bond portfolio\n",
    "ci_lower_ten_cumulative_return = # YOUR CODE HERE\n",
    "ci_upper_ten_cumulative_return = # YOUR CODE HERE\n",
    "\n",
    "# Print the result of your calculations\n",
    "# YOUR CODE HERE\n"
   ]
  },
  {
   "cell_type": "markdown",
   "metadata": {},
   "source": [
    "#### Question: Will weighting the portfolio more heavily to stocks allow the credit union members to retire after only 10 years?"
   ]
  },
  {
   "cell_type": "raw",
   "metadata": {},
   "source": [
    "**Answer** # YOUR ANSWER HERE"
   ]
  },
  {
   "cell_type": "code",
   "execution_count": null,
   "metadata": {},
   "outputs": [],
   "source": []
  }
 ],
 "metadata": {
  "kernelspec": {
   "display_name": "Python 3 (ipykernel)",
   "language": "python",
   "name": "python3"
  },
  "language_info": {
   "codemirror_mode": {
    "name": "ipython",
    "version": 3
   },
   "file_extension": ".py",
   "mimetype": "text/x-python",
   "name": "python",
   "nbconvert_exporter": "python",
   "pygments_lexer": "ipython3",
   "version": "3.7.13"
  }
 },
 "nbformat": 4,
 "nbformat_minor": 4
}
